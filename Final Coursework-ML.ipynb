{
 "cells": [
  {
   "attachments": {},
   "cell_type": "markdown",
   "id": "7753cebe",
   "metadata": {},
   "source": [
    "# CM3015 Machine Learning and Neural Network-Final coursework"
   ]
  },
  {
   "attachments": {},
   "cell_type": "markdown",
   "id": "8b26a010",
   "metadata": {},
   "source": [
    "#### 1.Introduction- Defining the problem"
   ]
  },
  {
   "attachments": {},
   "cell_type": "markdown",
   "id": "2a69b1e3",
   "metadata": {},
   "source": [
    "<p style='text-align: justify;'>KMNIST dataset (Kuzushiji-MNIST) is a collection of 10 classes, of single Kuzushiji (cursive Japanese) Hiragana characters written by hand in 28x28 images from traditional Japanese literature. It consists of 60,000 training and 10,000 test images which have been assigned to required labels or classification. The dataset has been created through scanning of thirty-five classical Japanese literature books dating from 18th century.  A bounding box was created for each character which later have been processed to fit the greyscale 28x28 pixel resolution.<sup>[2]</sup></p>\n",
    "<p style='text-align: justify;'>Quantity of the dataset can be considered as a limiting factor in the context of performing in depth analysis of all the Hiragana characters. The original number of character are 46 but the data set contains only 10 characters thus the analysis will be based on smaller yet a defined set of characters.</p>\n",
    "<p style='text-align: justify;'>The aim is to predict Hiragana characters from classic Japanese literature, spanning over ten classes currently representing the modern Hiragana characters. The classification type is defined as multiclass classification due to the presence of 10 different characters.</p>"
   ]
  },
  {
   "attachments": {},
   "cell_type": "markdown",
   "id": "f0a9ec23",
   "metadata": {},
   "source": [
    "#### 2.Selecting a measure of success"
   ]
  },
  {
   "attachments": {},
   "cell_type": "markdown",
   "id": "2de8c954",
   "metadata": {},
   "source": [
    "<p style='text-align: justify;'>Accuracy serves as the benchmark for my dataset's measure of success. As my aim invovles to correctly categorize Hiragana characters. Therefore accuracy is to be determined by dividing the total number of images by the number of images that were properly identified.</p>\n",
    "<p style='text-align: justify;'>I've decided to use categorical crossentropy as my loss function. Multiclass classification issues are frequently solved using the loss function categorical crossentropy. By calculating the separation between the actual and projected probability distribution, it narrows the discrepancy between the actual probability distribution of the classes and the projected probability distribution. RMSprop will be the optimizer I employ to increase the prediction's accuracy by optimizing the loss function during training.</p>"
   ]
  },
  {
   "attachments": {},
   "cell_type": "markdown",
   "id": "ee3c9c0d",
   "metadata": {},
   "source": [
    "#### 3.Deciding on an evaluation protocol"
   ]
  },
  {
   "attachments": {},
   "cell_type": "markdown",
   "id": "3901226a",
   "metadata": {},
   "source": [
    "Standard evaluation Protocols are as follows:\n",
    "1. Hold-out Validation set\n",
    "2. Performing K-fold cross validation on the dataset\n",
    "3. Performing iterated K-fold validation on the dataset.\n",
    "\n",
    "<p style='text-align: justify;'>I'll be employing hold-out validation set and iterated K-fold cross-validation assessment methodology. The bias and variance of the estimator will be determined by the number of folds. For instance, a higher number of k-folds will result in a lower estimate's bias but a higher variance, and vice versa. I will be using 5 folds in the evalution protocol.</p>"
   ]
  },
  {
   "attachments": {},
   "cell_type": "markdown",
   "id": "97ba6483",
   "metadata": {},
   "source": [
    "#### 4.Preparing the dataset"
   ]
  },
  {
   "attachments": {},
   "cell_type": "markdown",
   "id": "e7fcf902",
   "metadata": {},
   "source": [
    "###### 4.1 Importing required libraries\n",
    "\n",
    "<p style='text-align: justify;'>In the step we will be importing required libraries and modules necessary for building various models and analysis of the chosen dataset. </p>"
   ]
  },
  {
   "cell_type": "code",
   "execution_count": 1,
   "id": "cb7887a7",
   "metadata": {},
   "outputs": [],
   "source": [
    "import numpy as np\n",
    "import tensorflow as tf\n",
    "import matplotlib.pyplot as plt\n",
    "from tensorflow.keras import regularizers\n",
    "from tensorflow.keras import models,layers\n",
    "from tensorflow.keras.utils import to_categorical\n",
    "from sklearn.model_selection import train_test_split\n",
    "from keras.layers import Dense, Activation\n",
    "from sklearn.model_selection import StratifiedKFold\n",
    "from sklearn.metrics import confusion_matrix,precision_score,recall_score,f1_score"
   ]
  },
  {
   "attachments": {},
   "cell_type": "markdown",
   "id": "498c1f15",
   "metadata": {},
   "source": [
    "Kmnist_dataset is imported from tensorflow library. Further I will be initialising variables to store the dataset and information respectively."
   ]
  },
  {
   "cell_type": "code",
   "execution_count": 2,
   "id": "1311cfbd",
   "metadata": {},
   "outputs": [
    {
     "data": {
      "image/png": "[encoded data removed]",
      "text/plain": [
       "<Figure size 648x648 with 9 Axes>"
      ]
     },
     "metadata": {},
     "output_type": "display_data"
    }
   ],
   "source": [
    "#importing dataset\n",
    "import tensorflow_datasets as tfds\n",
    "\n",
    "#initislising dataset_values and dataset_Information to store dataset and its information\n",
    "dataset_values,dataset_Information=tfds.load('kmnist',split='all',with_info=True)\n",
    "\n",
    "#displaying some examples of imgages and catergorised labels\n",
    "sample_images=tfds.show_examples(dataset_values,dataset_Information)"
   ]
  },
  {
   "attachments": {},
   "cell_type": "markdown",
   "id": "e3cb9704",
   "metadata": {},
   "source": [
    "###### 4.2 Load KMNIST-Dataset\n",
    "\n",
    "Since the dataset consists of 60000 training and 10000 test images, I will importing and storing all the data into empty arrays, X and Y, representing images and labels respectively."
   ]
  },
  {
   "cell_type": "code",
   "execution_count": 3,
   "id": "98cddcd9",
   "metadata": {},
   "outputs": [],
   "source": [
    "#initialising arrays\n",
    "X_values=[]\n",
    "Y_values=[]\n",
    "\n",
    "#appending the arrays to add data\n",
    "for ds in dataset_values: \n",
    "    X_values.append(ds[\"image\"])\n",
    "    Y_values.append(ds[\"label\"])\n",
    "\n",
    "#converting into an np.array\n",
    "X_values = np.array(X_values)\n",
    "Y_values = np.array(Y_values)"
   ]
  },
  {
   "cell_type": "code",
   "execution_count": 4,
   "id": "2e6aaa68",
   "metadata": {},
   "outputs": [
    {
     "name": "stdout",
     "output_type": "stream",
     "text": [
      "KMNIST_image: (70000, 28, 28, 1)\n",
      "KMNIST_label: (70000,)\n"
     ]
    }
   ],
   "source": [
    "#printing shape of X_value,Y_value arrays\n",
    "print(\"KMNIST_image:\",X_values.shape)\n",
    "print(\"KMNIST_label:\",Y_values.shape)"
   ]
  },
  {
   "attachments": {},
   "cell_type": "markdown",
   "id": "363ab5f8",
   "metadata": {},
   "source": [
    "Now that arrays consists of dataset, we would need to partition the dataset into training, validation and testing sets in the proportions of 75:15:15."
   ]
  },
  {
   "cell_type": "code",
   "execution_count": 5,
   "id": "a6e02ba4",
   "metadata": {
    "scrolled": false
   },
   "outputs": [],
   "source": [
    "#initialising the proportions\n",
    "trainDS_ratio=0.7\n",
    "testDS_ratio=0.15\n",
    "validationDS_ratio=0.15\n",
    "\n",
    "#spliting the data using train_test_splitfunction \n",
    "X_trainVal,X_validVal,y_trainVal,y_validVal=train_test_split(X_values,Y_values,test_size=(1-trainDS_ratio),shuffle=True)\n",
    "X_validVal,X_testVal,y_validVal,y_testVal=train_test_split(X_validVal,y_validVal,test_size=testDS_ratio/(testDS_ratio+validationDS_ratio),shuffle=True)"
   ]
  },
  {
   "attachments": {},
   "cell_type": "markdown",
   "id": "5c005787",
   "metadata": {},
   "source": [
    "The following code involves the calculation and observation of spread among different labels."
   ]
  },
  {
   "cell_type": "code",
   "execution_count": 6,
   "id": "99dc0c3a",
   "metadata": {},
   "outputs": [
    {
     "name": "stdout",
     "output_type": "stream",
     "text": [
      "Training labels: {0: 4897, 1: 4892, 2: 4910, 3: 4864, 4: 4867, 5: 4962, 6: 4932, 7: 4852, 8: 4942, 9: 4881}\n",
      "Testing labels: {0: 1087, 1: 1067, 2: 1043, 3: 1060, 4: 1042, 5: 989, 6: 1040, 7: 1092, 8: 1014, 9: 1067}\n",
      "Validation labels: {0: 1016, 1: 1041, 2: 1047, 3: 1076, 4: 1091, 5: 1049, 6: 1028, 7: 1056, 8: 1044, 9: 1052}\n"
     ]
    }
   ],
   "source": [
    "#calculating the range of labels in training set\n",
    "unique, count_value = np.unique(y_trainVal, return_counts=True)\n",
    "print(\"Training labels: {}\".format(dict(zip(unique, count_value))))\n",
    "\n",
    "#calculating the range of labels in testing set\n",
    "unique, count_value = np.unique(y_testVal, return_counts=True)\n",
    "print(\"Testing labels: {}\".format(dict(zip(unique, count_value))))\n",
    "\n",
    "#calculating the range of labels in validation set\n",
    "unique, count_value = np.unique(y_validVal, return_counts=True)\n",
    "print(\"Validation labels: {}\".format(dict(zip(unique, count_value))))"
   ]
  },
  {
   "cell_type": "code",
   "execution_count": 7,
   "id": "18e1f38a",
   "metadata": {},
   "outputs": [
    {
     "name": "stdout",
     "output_type": "stream",
     "text": [
      "Kmnist_Train_Images: (48999, 28, 28, 1)\n",
      "Kmnist_Train_Label: (48999,)\n",
      "Kmnist_Test_Images: (10501, 28, 28, 1)\n",
      "Kmnist_Test_Label: (10501,)\n",
      "Kmnist_Validate_Images: (10500, 28, 28, 1)\n",
      "Kmnist_Validate_Label: (10500,)\n"
     ]
    }
   ],
   "source": [
    "#printing shapes of values\n",
    "print('Kmnist_Train_Images:',X_trainVal.shape)\n",
    "print('Kmnist_Train_Label:',y_trainVal.shape)\n",
    "print('Kmnist_Test_Images:',X_testVal.shape)\n",
    "print('Kmnist_Test_Label:',y_testVal.shape)\n",
    "print('Kmnist_Validate_Images:',X_validVal.shape)\n",
    "print('Kmnist_Validate_Label:',y_validVal.shape)"
   ]
  },
  {
   "attachments": {},
   "cell_type": "markdown",
   "id": "2dd3b735",
   "metadata": {},
   "source": [
    "###### 4.3 Visualisation of data\n",
    "\n",
    "Following code below will show 30 random sample images from the KMNIST dataset."
   ]
  },
  {
   "cell_type": "code",
   "execution_count": 8,
   "id": "7d91ecb5",
   "metadata": {},
   "outputs": [
    {
     "data": {
      "image/png": "[encoded data removed]",
      "text/plain": [
       "<Figure size 576x576 with 25 Axes>"
      ]
     },
     "metadata": {
      "needs_background": "light"
     },
     "output_type": "display_data"
    }
   ],
   "source": [
    "#getting 25 random characters from KMNIST\n",
    "rand_index = np.random.choice(X_trainVal.shape[0], size=25, replace=False)\n",
    "rand_images = X_trainVal[rand_index]\n",
    "rand_labels = y_trainVal[rand_index]\n",
    "\n",
    "#visualizing the 25 random KMNIST characters\n",
    "plt.figure(figsize=(8,8))\n",
    "#klooping over rand_index \n",
    "for img in range(len(rand_index)):\n",
    "    #plotting images\n",
    "    plt.subplot(5, 5, img + 1)\n",
    "    rand_img = rand_images[img]\n",
    "    plt.imshow(rand_img, cmap='gray')\n",
    "    plt.axis('off')\n",
    "plt.show()"
   ]
  },
  {
   "attachments": {},
   "cell_type": "markdown",
   "id": "df59ce61",
   "metadata": {},
   "source": [
    "###### 4.4 One-hot Encoding\n",
    "\n",
    "To represent each label as a binary vector, the following code converts it into a one-hot encoded vector. This implies that operations within the model will be simpler."
   ]
  },
  {
   "cell_type": "code",
   "execution_count": 9,
   "id": "5070244e",
   "metadata": {},
   "outputs": [],
   "source": [
    "#converting label_values into one-hot-enocded vectors\n",
    "y_trainVal = to_categorical(y_trainVal)\n",
    "y_testVal = to_categorical(y_testVal)\n",
    "y_validVal=to_categorical(y_validVal)"
   ]
  },
  {
   "attachments": {},
   "cell_type": "markdown",
   "id": "11d28459",
   "metadata": {},
   "source": [
    "###### 4.5 Pre-processing of images data\n",
    "\n",
    "The following step are followed\n",
    "1. Flattening 28x28 image array to vector datatype using reshape() function.\n",
    "2. Normalising images by casting in float datatype and rescaling to values between 0 ands 1."
   ]
  },
  {
   "cell_type": "code",
   "execution_count": 10,
   "id": "29d7f0b6",
   "metadata": {},
   "outputs": [],
   "source": [
    "#reshaping and rescaling X_train_images\n",
    "X_trainVal= X_trainVal.reshape((48999, 28*28))\n",
    "X_trainVal = X_trainVal.astype('float32') / 255\n",
    "\n",
    "#reshaping and rescaling X_test_images\n",
    "X_testVal = X_testVal.reshape((10501,28 * 28))\n",
    "X_testVal = X_testVal.astype('float32') / 255\n",
    "\n",
    "#reshaping and rescaling X_validation_images\n",
    "X_validVal= X_validVal.reshape((10500, 28*28))\n",
    "X_validVal= X_validVal.astype('float32') / 255"
   ]
  },
  {
   "attachments": {},
   "cell_type": "markdown",
   "id": "91e3e2e7",
   "metadata": {},
   "source": [
    "Printing shape of processed data, to further be used by the models."
   ]
  },
  {
   "cell_type": "code",
   "execution_count": 11,
   "id": "620403d7",
   "metadata": {},
   "outputs": [
    {
     "name": "stdout",
     "output_type": "stream",
     "text": [
      "Kmnist_Train_Images: (48999, 784)\n",
      "Kmnist_Train_Label: (48999, 10)\n",
      "Kmnist_Test_Images: (10501, 784)\n",
      "Kmnist_Test_Label: (10501, 10)\n",
      "Kmnist_Validate_Images: (10500, 784)\n",
      "Kmnist_Validate_Label: (10500, 10)\n"
     ]
    }
   ],
   "source": [
    "#printing shapes of values\n",
    "print('Kmnist_Train_Images:',X_trainVal.shape)\n",
    "print('Kmnist_Train_Label:',y_trainVal.shape)\n",
    "print('Kmnist_Test_Images:',X_testVal.shape)\n",
    "print('Kmnist_Test_Label:',y_testVal.shape)\n",
    "print('Kmnist_Validate_Images:',X_validVal.shape)\n",
    "print('Kmnist_Validate_Label:',y_validVal.shape)"
   ]
  },
  {
   "attachments": {},
   "cell_type": "markdown",
   "id": "e7cfdf41",
   "metadata": {},
   "source": [
    "#### 5.Evaluation Protocol I:Hold-Out Validation\n",
    "\n",
    "In majority of the cases, Hold-out validation method of evaluation will be adequate for developing models.\n",
    "\n",
    "<p style='text-align: justify;'><b>Setting Compile Parameters:</b> Optimizer, loss_function and metrics are rmsprop, catergorical_crossentropy and accuracy respectively, defined in the compile stage of all the models to be developed.</p>\n",
    "\n",
    "<p style='text-align: justify;'><b>Plotting graphs on Loss and Accuracy:</b>These graphs help to inspect,establish the model is operating with highest accuracy possible and determine wheher the model in underfit, good-fit or overfit.</p>"
   ]
  },
  {
   "attachments": {},
   "cell_type": "markdown",
   "id": "e58a4d51",
   "metadata": {},
   "source": [
    "###### 5.1 Underfit model \n",
    "\n",
    "<p style='text-align: justify;'>We will be creating a modest model that can outperform a basic baseline and use minimum requirements. Anything that achieves an accuracy better than 0.1 is considered to have statistical power. The model will consists of only required actiavtion layer, softmax.</p>"
   ]
  },
  {
   "cell_type": "code",
   "execution_count": 12,
   "id": "95ab6e95",
   "metadata": {},
   "outputs": [],
   "source": [
    "#initialising an empty underfit model\n",
    "model_underfit = models.Sequential()\n",
    "#adding softmax layer \n",
    "model_underfit.add(layers.Dense(10, activation='softmax'))\n",
    "#initialising optimzer,loss_function and metrics \n",
    "model_underfit.compile(optimizer='rmsprop',loss='categorical_crossentropy', metrics=['accuracy'])"
   ]
  },
  {
   "cell_type": "code",
   "execution_count": 13,
   "id": "7c89b0ee",
   "metadata": {},
   "outputs": [
    {
     "name": "stdout",
     "output_type": "stream",
     "text": [
      "Epoch 1/5\n",
      "326/326 [==============================] - 1s 2ms/step - loss: 0.9717 - accuracy: 0.7195 - val_loss: 0.7493 - val_accuracy: 0.7777\n",
      "Epoch 2/5\n",
      "326/326 [==============================] - 1s 2ms/step - loss: 0.7010 - accuracy: 0.7928 - val_loss: 0.6992 - val_accuracy: 0.7882\n",
      "Epoch 3/5\n",
      "326/326 [==============================] - 1s 2ms/step - loss: 0.6669 - accuracy: 0.8017 - val_loss: 0.6855 - val_accuracy: 0.7954\n",
      "Epoch 4/5\n",
      "326/326 [==============================] - 1s 2ms/step - loss: 0.6506 - accuracy: 0.8068 - val_loss: 0.6774 - val_accuracy: 0.8001\n",
      "Epoch 5/5\n",
      "326/326 [==============================] - 1s 2ms/step - loss: 0.6405 - accuracy: 0.8107 - val_loss: 0.6783 - val_accuracy: 0.7999\n"
     ]
    }
   ],
   "source": [
    "# training model to fit and input data\n",
    "model_underfit_result=model_underfit.fit(X_trainVal, y_trainVal, epochs=5, batch_size=128, validation_split=0.15)"
   ]
  },
  {
   "cell_type": "code",
   "execution_count": 14,
   "id": "d8a04e07",
   "metadata": {},
   "outputs": [
    {
     "name": "stdout",
     "output_type": "stream",
     "text": [
      "Model: \"sequential\"\n",
      "_________________________________________________________________\n",
      " Layer (type)                Output Shape              Param #   \n",
      "=================================================================\n",
      " dense (Dense)               (None, 10)                7850      \n",
      "                                                                 \n",
      "=================================================================\n",
      "Total params: 7,850\n",
      "Trainable params: 7,850\n",
      "Non-trainable params: 0\n",
      "_________________________________________________________________\n"
     ]
    }
   ],
   "source": [
    "#synopsis of the layers present in model_underfit\n",
    "model_underfit.summary()"
   ]
  },
  {
   "attachments": {},
   "cell_type": "markdown",
   "id": "ca3d691a",
   "metadata": {},
   "source": [
    "Upon analysing the summary of the model, we can further inspect the model by plotting graphs based on accuracy and loss of the model. "
   ]
  },
  {
   "cell_type": "code",
   "execution_count": 15,
   "id": "899d308c",
   "metadata": {},
   "outputs": [
    {
     "data": {
      "text/plain": [
       "<matplotlib.legend.Legend at 0x23a2bbc5580>"
      ]
     },
     "execution_count": 15,
     "metadata": {},
     "output_type": "execute_result"
    },
    {
     "data": {
      "image/png": "[encoded data removed]",
      "text/plain": [
       "<Figure size 432x288 with 1 Axes>"
      ]
     },
     "metadata": {
      "needs_background": "light"
     },
     "output_type": "display_data"
    }
   ],
   "source": [
    "#accuracy-graphplot\n",
    "plt.plot(model_underfit_result.history['accuracy'],'b')\n",
    "plt.plot(model_underfit_result.history['val_accuracy'],'r')\n",
    "#graph-title\n",
    "plt.title('Accuracy-training and validation')\n",
    "#graph-xaxisLabel\n",
    "plt.xlabel('Num of Epochs')\n",
    "#graph-yaxislabel\n",
    "plt.ylabel('Accuracy-rate')\n",
    "#graph-key/legend\n",
    "plt.legend(['Accuracy', 'Validation_accuracy'])"
   ]
  },
  {
   "cell_type": "code",
   "execution_count": 16,
   "id": "af83644e",
   "metadata": {},
   "outputs": [
    {
     "data": {
      "text/plain": [
       "<matplotlib.legend.Legend at 0x23a2bc8efd0>"
      ]
     },
     "execution_count": 16,
     "metadata": {},
     "output_type": "execute_result"
    },
    {
     "data": {
      "image/png": "[encoded data removed]",
      "text/plain": [
       "<Figure size 432x288 with 1 Axes>"
      ]
     },
     "metadata": {
      "needs_background": "light"
     },
     "output_type": "display_data"
    }
   ],
   "source": [
    "#loss-graphplot\n",
    "plt.plot(model_underfit_result.history['loss'],'b')\n",
    "plt.plot(model_underfit_result.history['val_loss'],'r')\n",
    "#graph-title\n",
    "plt.title('Loss-training and validation')\n",
    "#graph-xaxisLabel\n",
    "plt.xlabel('Num of Epochs')\n",
    "#graph-yaxislabel\n",
    "plt.ylabel('Loss')\n",
    "plt.legend(['Loss', 'Validation_loss'])"
   ]
  },
  {
   "cell_type": "code",
   "execution_count": 17,
   "id": "f56457dc",
   "metadata": {},
   "outputs": [
    {
     "name": "stdout",
     "output_type": "stream",
     "text": [
      "329/329 [==============================] - 0s 808us/step - loss: 0.6677 - accuracy: 0.7999\n"
     ]
    }
   ],
   "source": [
    "#evaluating loss_testing and accur_testing  \n",
    "loss_testing,accur_testing=model_underfit.evaluate(X_validVal,y_validVal)"
   ]
  },
  {
   "attachments": {},
   "cell_type": "markdown",
   "id": "76a9194b",
   "metadata": {},
   "source": [
    "The set of codes above represent developing a underfitting model and accuracy score achieved is 80%, adequate to exceed the baseline of 10%."
   ]
  },
  {
   "attachments": {},
   "cell_type": "markdown",
   "id": "16b394f2",
   "metadata": {},
   "source": [
    "###### 5.2 Overfit model \n",
    "\n",
    "<p style='text-align: justify;'>After constructing a model that outperforms the baseline, we must create an overfitting model. To achieve the goal of we should produce a model that is on the border between overfitting and underfitting, we must cross the line to develop an overfitting model.</p>\n",
    "\n",
    "<p style='text-align: justify;'>To accomplish an overfitting model, either the training should be expanded by increasing the number of epochs or a larger model should be constructed. These factors should be escalated till the validation data on which the network is evaluated begins to degrade.</p>"
   ]
  },
  {
   "cell_type": "code",
   "execution_count": 18,
   "id": "829b9a31",
   "metadata": {},
   "outputs": [],
   "source": [
    "#Initialising an empty overfit model\n",
    "model_overfit=models.Sequential()\n",
    "#adding three layers with relu activation\n",
    "model_overfit.add(layers.Dense(512,activation='relu',input_shape=(28*28,)))\n",
    "model_overfit.add(layers.Dense(124,activation='relu'))\n",
    "model_overfit.add(layers.Dense(46,activation='relu'))\n",
    "#adding softmax layer\n",
    "model_overfit.add(layers.Dense(10, activation='softmax'))\n",
    "#initialising optimzer, loss_function and metrics and compiling the model\n",
    "model_overfit.compile(optimizer='rmsprop',loss='categorical_crossentropy', metrics=['accuracy'])"
   ]
  },
  {
   "cell_type": "code",
   "execution_count": 19,
   "id": "6b8336cc",
   "metadata": {},
   "outputs": [],
   "source": [
    "#training model_overfit to fit input values\n",
    "model_overfit_result=model_overfit.fit(X_trainVal, y_trainVal, epochs=15, batch_size=64, validation_split=0.15,verbose=0)"
   ]
  },
  {
   "cell_type": "code",
   "execution_count": 20,
   "id": "1a1d02c4",
   "metadata": {},
   "outputs": [
    {
     "name": "stdout",
     "output_type": "stream",
     "text": [
      "Model: \"sequential_1\"\n",
      "_________________________________________________________________\n",
      " Layer (type)                Output Shape              Param #   \n",
      "=================================================================\n",
      " dense_1 (Dense)             (None, 512)               401920    \n",
      "                                                                 \n",
      " dense_2 (Dense)             (None, 124)               63612     \n",
      "                                                                 \n",
      " dense_3 (Dense)             (None, 46)                5750      \n",
      "                                                                 \n",
      " dense_4 (Dense)             (None, 10)                470       \n",
      "                                                                 \n",
      "=================================================================\n",
      "Total params: 471,752\n",
      "Trainable params: 471,752\n",
      "Non-trainable params: 0\n",
      "_________________________________________________________________\n"
     ]
    }
   ],
   "source": [
    "#synopsis of layers consisted in model_overfit\n",
    "model_overfit.summary()"
   ]
  },
  {
   "attachments": {},
   "cell_type": "markdown",
   "id": "356d6294",
   "metadata": {},
   "source": [
    "Upon analysing the summary of the model, we can further inspect the model by plotting graphs based on accuracy and loss of the model. "
   ]
  },
  {
   "cell_type": "code",
   "execution_count": 21,
   "id": "b9ec7858",
   "metadata": {
    "scrolled": true
   },
   "outputs": [
    {
     "data": {
      "text/plain": [
       "<matplotlib.legend.Legend at 0x23a2acd8d90>"
      ]
     },
     "execution_count": 21,
     "metadata": {},
     "output_type": "execute_result"
    },
    {
     "data": {
      "image/png": "[encoded data removed]",
      "text/plain": [
       "<Figure size 432x288 with 1 Axes>"
      ]
     },
     "metadata": {
      "needs_background": "light"
     },
     "output_type": "display_data"
    }
   ],
   "source": [
    "#accuracy-graphplot\n",
    "plt.plot(model_overfit_result.history['accuracy'],'b')\n",
    "plt.plot(model_overfit_result.history['val_accuracy'],'r')\n",
    "#graph-title\n",
    "plt.title('Accuracy- training and validation')\n",
    "#graph-xaxislable\n",
    "plt.xlabel('Num of Epochs')\n",
    "#graph-yaxislabel\n",
    "plt.ylabel('Accuracy-rate')\n",
    "#graph-key\n",
    "plt.legend(['Accuracy', 'Validation_accuracy'])"
   ]
  },
  {
   "cell_type": "code",
   "execution_count": 22,
   "id": "d5a60f3e",
   "metadata": {},
   "outputs": [
    {
     "data": {
      "text/plain": [
       "<matplotlib.legend.Legend at 0x23a2b50bd60>"
      ]
     },
     "execution_count": 22,
     "metadata": {},
     "output_type": "execute_result"
    },
    {
     "data": {
      "image/png": "[encoded data removed]",
      "text/plain": [
       "<Figure size 432x288 with 1 Axes>"
      ]
     },
     "metadata": {
      "needs_background": "light"
     },
     "output_type": "display_data"
    }
   ],
   "source": [
    "#loss-graphplot\n",
    "plt.plot(model_overfit_result.history['loss'],'b')\n",
    "plt.plot(model_overfit_result.history['val_loss'],'r')\n",
    "#graph-title\n",
    "plt.title('Loss-training and validation')\n",
    "#graph-xaxisLabel\n",
    "plt.xlabel('Num of Epochs')\n",
    "#graph-yaxislabel\n",
    "plt.ylabel('Loss')\n",
    "plt.legend(['Loss', 'Validation_loss'])"
   ]
  },
  {
   "cell_type": "code",
   "execution_count": 23,
   "id": "39f00a38",
   "metadata": {},
   "outputs": [
    {
     "name": "stdout",
     "output_type": "stream",
     "text": [
      "329/329 [==============================] - 1s 3ms/step - loss: 0.3563 - accuracy: 0.9579\n"
     ]
    }
   ],
   "source": [
    "#evaluating loss_testing and accur_testing\n",
    "loss_testing,accur_testing=model_overfit.evaluate(X_validVal,y_validVal)"
   ]
  },
  {
   "attachments": {},
   "cell_type": "markdown",
   "id": "9a6e66a0",
   "metadata": {},
   "source": [
    "<p style='text-align: justify;'>Graphs plotted on accuracy and loss represent extreme overfitting model as the difference is large between the lines.The set of codes above represent developing an overfitting model and accuracy_value achieved is 95%.</p>"
   ]
  },
  {
   "attachments": {},
   "cell_type": "markdown",
   "id": "8f7f9c13",
   "metadata": {},
   "source": [
    "###### 5.3 Regularising  the model\n",
    "\n",
    "Methods to be followed on model are dropout and using L1 annd L2 regularization."
   ]
  },
  {
   "attachments": {},
   "cell_type": "markdown",
   "id": "ff6d2bcf",
   "metadata": {},
   "source": [
    "###### 5.3.1 Dropout\n",
    "This method is an training approach in which some layers are randomly dropped."
   ]
  },
  {
   "cell_type": "code",
   "execution_count": 24,
   "id": "b43f9b9c",
   "metadata": {},
   "outputs": [],
   "source": [
    "#initialising an empty dropoutmodel network\n",
    "dpModl = models.Sequential()\n",
    "#extending layers\n",
    "dpModl.add(layers.Dense(512, activation='relu', input_shape=(28 * 28, )))\n",
    "#droupout-layer1\n",
    "dpModl.add(layers.Dropout(0.5))\n",
    "dpModl.add(layers.Dense(124,activation='relu'))\n",
    "dpModl.add(layers.Dense(46,activation='relu'))\n",
    "#dropout-layer2\n",
    "dpModl.add(layers.Dropout(0.7))\n",
    "dpModl.add(layers.Dense(10, activation='softmax'))\n",
    "#initialising optimzer, loss_function and metrics and compiling \n",
    "dpModl.compile(optimizer='rmsprop',loss='categorical_crossentropy', metrics=['accuracy'])"
   ]
  },
  {
   "cell_type": "code",
   "execution_count": 25,
   "id": "fcfd36f6",
   "metadata": {},
   "outputs": [],
   "source": [
    "#training model to fit input values\n",
    "dpModl_result=dpModl.fit(X_trainVal, y_trainVal, epochs=15, batch_size=128,validation_split=0.15,verbose=0)"
   ]
  },
  {
   "cell_type": "code",
   "execution_count": 26,
   "id": "6fa2ee8e",
   "metadata": {},
   "outputs": [
    {
     "name": "stdout",
     "output_type": "stream",
     "text": [
      "Model: \"sequential_2\"\n",
      "_________________________________________________________________\n",
      " Layer (type)                Output Shape              Param #   \n",
      "=================================================================\n",
      " dense_5 (Dense)             (None, 512)               401920    \n",
      "                                                                 \n",
      " dropout (Dropout)           (None, 512)               0         \n",
      "                                                                 \n",
      " dense_6 (Dense)             (None, 124)               63612     \n",
      "                                                                 \n",
      " dense_7 (Dense)             (None, 46)                5750      \n",
      "                                                                 \n",
      " dropout_1 (Dropout)         (None, 46)                0         \n",
      "                                                                 \n",
      " dense_8 (Dense)             (None, 10)                470       \n",
      "                                                                 \n",
      "=================================================================\n",
      "Total params: 471,752\n",
      "Trainable params: 471,752\n",
      "Non-trainable params: 0\n",
      "_________________________________________________________________\n"
     ]
    }
   ],
   "source": [
    "#synopsis of layers in dpModl \n",
    "dpModl.summary()"
   ]
  },
  {
   "cell_type": "code",
   "execution_count": 27,
   "id": "81d2ea0e",
   "metadata": {},
   "outputs": [
    {
     "data": {
      "text/plain": [
       "<matplotlib.legend.Legend at 0x23a2af5aca0>"
      ]
     },
     "execution_count": 27,
     "metadata": {},
     "output_type": "execute_result"
    },
    {
     "data": {
      "image/png": "[encoded data removed]",
      "text/plain": [
       "<Figure size 432x288 with 1 Axes>"
      ]
     },
     "metadata": {
      "needs_background": "light"
     },
     "output_type": "display_data"
    }
   ],
   "source": [
    "#accuracy-graphplot\n",
    "plt.plot(dpModl_result.history['accuracy'],'b')\n",
    "plt.plot(dpModl_result.history['val_accuracy'],'r')\n",
    "#graph-title\n",
    "plt.title('Accuracy- training and validation')\n",
    "#graph-xaxislable\n",
    "plt.xlabel('Num of Epochs')\n",
    "#graph-yaxislabel\n",
    "plt.ylabel('Accuracy-rate')\n",
    "#graph-key\n",
    "plt.legend(['Accuracy', 'Validation_accuracy'])"
   ]
  },
  {
   "cell_type": "code",
   "execution_count": 28,
   "id": "c526c9e3",
   "metadata": {},
   "outputs": [
    {
     "data": {
      "text/plain": [
       "<matplotlib.legend.Legend at 0x23a2add7df0>"
      ]
     },
     "execution_count": 28,
     "metadata": {},
     "output_type": "execute_result"
    },
    {
     "data": {
      "image/png": "[encoded data removed]",
      "text/plain": [
       "<Figure size 432x288 with 1 Axes>"
      ]
     },
     "metadata": {
      "needs_background": "light"
     },
     "output_type": "display_data"
    }
   ],
   "source": [
    "#loss-graphplot\n",
    "plt.plot(dpModl_result.history['loss'],'b')\n",
    "plt.plot(dpModl_result.history['val_loss'],'r')\n",
    "#graph-title\n",
    "plt.title('Loss-training and validation')\n",
    "#graph-xaxisLabel\n",
    "plt.xlabel('Num of Epochs')\n",
    "#graph-yaxislabel\n",
    "plt.ylabel('Loss')\n",
    "plt.legend(['Loss', 'Validation_loss'])"
   ]
  },
  {
   "attachments": {},
   "cell_type": "markdown",
   "id": "3f9a616c",
   "metadata": {},
   "source": [
    "The graphs show that adding dropout layers has resulted in a difference between training and validation sets, since the lines do not meet at any point."
   ]
  },
  {
   "cell_type": "code",
   "execution_count": 29,
   "id": "fea75ac1",
   "metadata": {},
   "outputs": [
    {
     "name": "stdout",
     "output_type": "stream",
     "text": [
      "329/329 [==============================] - 1s 2ms/step - loss: 0.2284 - accuracy: 0.9522\n"
     ]
    }
   ],
   "source": [
    "#evaluating loss_testing and accur_testing\n",
    "loss_testing,accur_testing= dpModl.evaluate(X_validVal,y_validVal)"
   ]
  },
  {
   "attachments": {},
   "cell_type": "markdown",
   "id": "bb4f7bcf",
   "metadata": {},
   "source": [
    "###### 5.3.2 L1/ L2 Regularization protocol\n",
    "\n",
    "L1-regularization is based on absolute value of loss function while L2-regularization is based on squared magnitude of loss-function.<sup>[3]</sup>"
   ]
  },
  {
   "cell_type": "code",
   "execution_count": 30,
   "id": "26040844",
   "metadata": {},
   "outputs": [],
   "source": [
    "#initialising an empty LRModel\n",
    "LRModl= models.Sequential()\n",
    "#expanding network by increasing layers\n",
    "LRModl.add(layers.Dense(512, activation='relu', input_shape=(28 * 28, )))\n",
    "#L1-regularization \n",
    "LRModl.add(layers.Dense(124,kernel_regularizer=regularizers.l1(0.01),activation='relu'))\n",
    "#L2-regularization \n",
    "LRModl.add(layers.Dense(46,kernel_regularizer=regularizers.l2(0.01),activation='relu'))\n",
    "LRModl.add(layers.Dense(10, activation='softmax'))\n",
    "#initialising optimzer, loss_function and metrics and compiling \n",
    "LRModl.compile(optimizer='rmsprop',loss='categorical_crossentropy',  metrics=['accuracy'])"
   ]
  },
  {
   "cell_type": "code",
   "execution_count": 31,
   "id": "d1b4a31d",
   "metadata": {},
   "outputs": [],
   "source": [
    "#training model to fit input values\n",
    "LRModl_result=LRModl.fit(X_trainVal, y_trainVal, epochs=15, batch_size=128,validation_split=0.15,verbose=0)"
   ]
  },
  {
   "cell_type": "code",
   "execution_count": 32,
   "id": "2223e107",
   "metadata": {},
   "outputs": [
    {
     "name": "stdout",
     "output_type": "stream",
     "text": [
      "Model: \"sequential_3\"\n",
      "_________________________________________________________________\n",
      " Layer (type)                Output Shape              Param #   \n",
      "=================================================================\n",
      " dense_9 (Dense)             (None, 512)               401920    \n",
      "                                                                 \n",
      " dense_10 (Dense)            (None, 124)               63612     \n",
      "                                                                 \n",
      " dense_11 (Dense)            (None, 46)                5750      \n",
      "                                                                 \n",
      " dense_12 (Dense)            (None, 10)                470       \n",
      "                                                                 \n",
      "=================================================================\n",
      "Total params: 471,752\n",
      "Trainable params: 471,752\n",
      "Non-trainable params: 0\n",
      "_________________________________________________________________\n"
     ]
    }
   ],
   "source": [
    "#synopsis of layers consisted in LRModl\n",
    "LRModl.summary()"
   ]
  },
  {
   "cell_type": "code",
   "execution_count": 33,
   "id": "0c486a06",
   "metadata": {},
   "outputs": [
    {
     "data": {
      "text/plain": [
       "<matplotlib.legend.Legend at 0x23a359eda60>"
      ]
     },
     "execution_count": 33,
     "metadata": {},
     "output_type": "execute_result"
    },
    {
     "data": {
      "image/png": "[encoded data removed]",
      "text/plain": [
       "<Figure size 432x288 with 1 Axes>"
      ]
     },
     "metadata": {
      "needs_background": "light"
     },
     "output_type": "display_data"
    }
   ],
   "source": [
    "#accuracy-graphplot\n",
    "plt.plot(LRModl_result.history['accuracy'],'b')\n",
    "plt.plot(LRModl_result.history['val_accuracy'],'r')\n",
    "#graph-title\n",
    "plt.title('Accuracy- training and validation')\n",
    "#graph-xaxislable\n",
    "plt.xlabel('Num of Epochs')\n",
    "#graph-yaxislabel\n",
    "plt.ylabel('Accuracy-rate')\n",
    "#graph-key\n",
    "plt.legend(['Accuracy', 'Validation_accuracy'])"
   ]
  },
  {
   "cell_type": "code",
   "execution_count": 34,
   "id": "0d9de9f8",
   "metadata": {},
   "outputs": [
    {
     "data": {
      "text/plain": [
       "<matplotlib.legend.Legend at 0x23a2ac65820>"
      ]
     },
     "execution_count": 34,
     "metadata": {},
     "output_type": "execute_result"
    },
    {
     "data": {
      "image/png": "[encoded data removed]",
      "text/plain": [
       "<Figure size 432x288 with 1 Axes>"
      ]
     },
     "metadata": {
      "needs_background": "light"
     },
     "output_type": "display_data"
    }
   ],
   "source": [
    "#loss-graphplot\n",
    "plt.plot(LRModl_result.history['loss'],'b')\n",
    "plt.plot(LRModl_result.history['val_loss'],'r')\n",
    "#graph-title\n",
    "plt.title('Loss-training and validation')\n",
    "#graph-xaxisLabel\n",
    "plt.xlabel('Num of Epochs')\n",
    "#graph-yaxislabel\n",
    "plt.ylabel('Loss')\n",
    "plt.legend(['Loss', 'Validation_loss'])"
   ]
  },
  {
   "attachments": {},
   "cell_type": "markdown",
   "id": "230113c5",
   "metadata": {},
   "source": [
    "<p style='text-align: justify;'>The graphs show that adding l1 and l2 layers led the model to overfit between training and validation sets, as the difference between lines is small.</p>"
   ]
  },
  {
   "cell_type": "code",
   "execution_count": 35,
   "id": "11f223b4",
   "metadata": {},
   "outputs": [
    {
     "name": "stdout",
     "output_type": "stream",
     "text": [
      "329/329 [==============================] - 1s 2ms/step - loss: 0.7629 - accuracy: 0.9122\n"
     ]
    }
   ],
   "source": [
    "#evaluating loss_testing and accur_testing\n",
    "loss_testing,accur_testing= LRModl.evaluate(X_validVal,y_validVal)"
   ]
  },
  {
   "attachments": {},
   "cell_type": "markdown",
   "id": "24522a3b",
   "metadata": {},
   "source": [
    "###### 5.4 Final model\n",
    "\n",
    "This model consists of both dropout and L1/L2 regularization layers."
   ]
  },
  {
   "cell_type": "code",
   "execution_count": 36,
   "id": "0c1d48dc",
   "metadata": {},
   "outputs": [],
   "source": [
    "#initialising an empty FlModl\n",
    "FlModl = models.Sequential()\n",
    "#expanding network by increasing layers\n",
    "FlModl.add(layers.Dense(512, activation='relu', input_shape=(28 * 28, )))\n",
    "#dropout-layer\n",
    "FlModl.add(layers.Dropout(0.2))\n",
    "#l1regularizer-layer\n",
    "FlModl.add(layers.Dense(124,kernel_regularizer=regularizers.l1(0.001),activation='relu'))\n",
    "FlModl.add(layers.Dense(46,activation='relu'))\n",
    "#softmaxLayer\n",
    "FlModl.add(layers.Dense(10, activation='softmax'))\n",
    "#initialising optimzer, loss_function and metrics and compiling\n",
    "FlModl.compile(optimizer='rmsprop',\n",
    "               loss='categorical_crossentropy', \n",
    "               metrics=['accuracy'])"
   ]
  },
  {
   "attachments": {},
   "cell_type": "markdown",
   "id": "d8ef5767",
   "metadata": {},
   "source": [
    "In the final-model, training and validation set values are concatenated and and passed to fit the model.We will train on the entire training set rather than just a portion of it."
   ]
  },
  {
   "cell_type": "code",
   "execution_count": 37,
   "id": "c32f55f2",
   "metadata": {},
   "outputs": [],
   "source": [
    "#training model to fit input values\n",
    "FlModl_result=FlModl.fit(np.concatenate([X_trainVal,X_validVal]),\n",
    "                        np.concatenate([y_trainVal,y_validVal]),epochs=15, batch_size=128,validation_split=0.15,verbose=0)"
   ]
  },
  {
   "cell_type": "code",
   "execution_count": 38,
   "id": "9d2f1169",
   "metadata": {},
   "outputs": [
    {
     "name": "stdout",
     "output_type": "stream",
     "text": [
      "Model: \"sequential_4\"\n",
      "_________________________________________________________________\n",
      " Layer (type)                Output Shape              Param #   \n",
      "=================================================================\n",
      " dense_13 (Dense)            (None, 512)               401920    \n",
      "                                                                 \n",
      " dropout_2 (Dropout)         (None, 512)               0         \n",
      "                                                                 \n",
      " dense_14 (Dense)            (None, 124)               63612     \n",
      "                                                                 \n",
      " dense_15 (Dense)            (None, 46)                5750      \n",
      "                                                                 \n",
      " dense_16 (Dense)            (None, 10)                470       \n",
      "                                                                 \n",
      "=================================================================\n",
      "Total params: 471,752\n",
      "Trainable params: 471,752\n",
      "Non-trainable params: 0\n",
      "_________________________________________________________________\n"
     ]
    }
   ],
   "source": [
    "#synopsis of layers consisted in LRModl\n",
    "FlModl.summary()"
   ]
  },
  {
   "cell_type": "code",
   "execution_count": 39,
   "id": "a9659090",
   "metadata": {},
   "outputs": [
    {
     "name": "stdout",
     "output_type": "stream",
     "text": [
      "329/329 [==============================] - 1s 2ms/step - loss: 0.3007 - accuracy: 0.9467\n"
     ]
    }
   ],
   "source": [
    "#evaluating loss_testing and accur_testing\n",
    "loss_testing,accur_testing= FlModl.evaluate(X_testVal,y_testVal)"
   ]
  },
  {
   "attachments": {},
   "cell_type": "markdown",
   "id": "10e77918",
   "metadata": {},
   "source": [
    "We will use numerous metrics to analyze the model in order to establish that our final model is correct.\n",
    "1. Precision score\n",
    "2. Recall score\n",
    "3. F1 score\n",
    "4. Confusion matrix\n",
    "5. Assesement on test data\n",
    "\n",
    "<p style='text-align: justify;'>In the code cell before,evalution process is performed on test values to obtain accurcay and loss occurred by using the dataset. Accuracy rate achieved is 95% while loss achieved is 0.2640 .</p>"
   ]
  },
  {
   "cell_type": "code",
   "execution_count": 40,
   "id": "86bbcf27",
   "metadata": {},
   "outputs": [
    {
     "name": "stdout",
     "output_type": "stream",
     "text": [
      "329/329 [==============================] - 1s 2ms/step\n"
     ]
    }
   ],
   "source": [
    "#initialising predicted values\n",
    "y_predictVal=FlModl.predict(X_testVal)\n",
    "\n",
    "#reshaping values from 10 to values between -1 and 1\n",
    "y_testVal=y_testVal.reshape(-1,1)\n",
    "y_predictVal=y_predictVal.reshape(-1,1)\n",
    "\n",
    "y_testVal=np.argmax(y_testVal,axis=1)\n",
    "y_predictVal=np.argmax(y_predictVal,axis=1)"
   ]
  },
  {
   "cell_type": "code",
   "execution_count": 41,
   "id": "f81b2b3a",
   "metadata": {},
   "outputs": [],
   "source": [
    "#calculating and obtaining values\n",
    "precision_value=precision_score(y_testVal,y_predictVal,average='micro')\n",
    "recall_value=recall_score(y_testVal,y_predictVal,average='micro')\n",
    "f1_value=f1_score(y_testVal,y_predictVal,average='micro')"
   ]
  },
  {
   "cell_type": "code",
   "execution_count": 42,
   "id": "4b05a608",
   "metadata": {},
   "outputs": [
    {
     "name": "stdout",
     "output_type": "stream",
     "text": [
      "Precision value: 1.0\n",
      "Recall value: 1.0\n",
      "F1 score: 1.0\n"
     ]
    }
   ],
   "source": [
    "print(\"Precision value:\",precision_value)\n",
    "print(\"Recall value:\",recall_value)\n",
    "print(\"F1 score:\",f1_value)"
   ]
  },
  {
   "cell_type": "code",
   "execution_count": 43,
   "id": "53cc194d",
   "metadata": {},
   "outputs": [
    {
     "data": {
      "text/plain": [
       "Text(69.0, 0.5, 'truth')"
      ]
     },
     "execution_count": 43,
     "metadata": {},
     "output_type": "execute_result"
    },
    {
     "data": {
      "image/png": "[encoded data removed]",
      "text/plain": [
       "<Figure size 720x576 with 2 Axes>"
      ]
     },
     "metadata": {
      "needs_background": "light"
     },
     "output_type": "display_data"
    }
   ],
   "source": [
    "#confusion matrix\n",
    "conf_Mat=confusion_matrix(y_testVal,y_predictVal)\n",
    "import seaborn as sns\n",
    "plt.figure(figsize=(10,8))\n",
    "sns.heatmap(conf_Mat,annot=True,fmt='d')\n",
    "plt.xlabel('predicted')\n",
    "plt.ylabel('truth')"
   ]
  },
  {
   "attachments": {},
   "cell_type": "markdown",
   "id": "55097b81",
   "metadata": {},
   "source": [
    "This signifies that all of your positive samples are classified correctly and that none of your positive samples are wrongly classified."
   ]
  },
  {
   "attachments": {},
   "cell_type": "markdown",
   "id": "2e7ccf77",
   "metadata": {},
   "source": [
    "###### 5.5 Conclusion\n",
    "\n",
    "<p style='text-align: justify;'>Based on the assessment criteria shown above, we can conclude that the model can perform well and give relatively accurate outcomes at 95%. With the trained model, we can make accurate predictions.</p>"
   ]
  },
  {
   "attachments": {},
   "cell_type": "markdown",
   "id": "ac6fa33a",
   "metadata": {},
   "source": [
    "#### 6.Evaluation Protocol II: Iterated K fold\n",
    "\n",
    "<p style='text-align: justify;'>The samples are insufficient for performing a deep learning project because the dataset has a maximum of 70000 samples. This indicates that our dataset is short, resulting in even smaller validation and partial training sets. A small validation set makes the validation scores more sensitive to the set's composition, which influences the data points after dividing the data. Therfore,iterated K fold would be approriate method of evaluating this dataset.</p>\n",
    "\n",
    "###### 6.1 Pre-processing of images data"
   ]
  },
  {
   "cell_type": "code",
   "execution_count": 44,
   "id": "666fe7e1",
   "metadata": {},
   "outputs": [],
   "source": [
    "#initialising arrays\n",
    "X_values=[]\n",
    "Y_values=[]\n",
    "\n",
    "#appending the arrays to add data\n",
    "for ds in dataset_values: \n",
    "    X_values.append(ds[\"image\"])\n",
    "    Y_values.append(ds[\"label\"])\n",
    "\n",
    "#converting into an np.array\n",
    "X_values = np.array(X_values)\n",
    "Y_values = np.array(Y_values)"
   ]
  },
  {
   "attachments": {},
   "cell_type": "markdown",
   "id": "c48e6587",
   "metadata": {},
   "source": [
    "<p style='text-align: justify;'>There is no need to split training set at the because we'll split it into partial training and validation sets.The training data will be divided into K equal-sized chunks and trained on the remaining partitions; this procedure will be repeated K times with different validation sets. Before separating into K-portions, the K fold is iterated numerous times and scrambled each time.</p>"
   ]
  },
  {
   "cell_type": "code",
   "execution_count": 45,
   "id": "ce668b86",
   "metadata": {},
   "outputs": [],
   "source": [
    "#initialising the proportions\n",
    "trainDs_ratio=0.75\n",
    "testDs_ratio=0.25\n",
    "\n",
    "#spliting the data using train_test_splitfunction \n",
    "X_trainVal,X_testVal,y_trainVal,y_testVal=train_test_split(X_values,Y_values,test_size=(1-trainDs_ratio))"
   ]
  },
  {
   "cell_type": "code",
   "execution_count": 46,
   "id": "fec69a6e",
   "metadata": {},
   "outputs": [
    {
     "name": "stdout",
     "output_type": "stream",
     "text": [
      "Kmnist_Train_Images: (52500, 28, 28, 1)\n",
      "Kmnist_Train_Label: (52500,)\n",
      "Kmnist_Test_Images: (17500, 28, 28, 1)\n",
      "Kmnist_Test_Label: (17500,)\n"
     ]
    }
   ],
   "source": [
    "#printing shapes of values\n",
    "print('Kmnist_Train_Images:',X_trainVal.shape)\n",
    "print('Kmnist_Train_Label:',y_trainVal.shape)\n",
    "print('Kmnist_Test_Images:',X_testVal.shape)\n",
    "print('Kmnist_Test_Label:',y_testVal.shape)"
   ]
  },
  {
   "cell_type": "code",
   "execution_count": 47,
   "id": "ef6b1c64",
   "metadata": {},
   "outputs": [],
   "source": [
    "#reshaping and rescaling X_train_images\n",
    "X_trainVal= X_trainVal.reshape((52500, 28*28))\n",
    "X_trainVal= X_trainVal.astype('float32') / 255\n",
    "\n",
    "#reshaping and rescaling X_test_images\n",
    "X_testVal= X_testVal.reshape((17500,28 * 28))\n",
    "X_testVal= X_testVal.astype('float32') / 255"
   ]
  },
  {
   "cell_type": "code",
   "execution_count": 48,
   "id": "bccb7e64",
   "metadata": {},
   "outputs": [],
   "source": [
    "#converting label_values into one-hot-enocded vectors\n",
    "y_trainVal = to_categorical(y_trainVal)\n",
    "y_testVal = to_categorical(y_testVal)"
   ]
  },
  {
   "cell_type": "code",
   "execution_count": 49,
   "id": "dff55716",
   "metadata": {},
   "outputs": [
    {
     "name": "stdout",
     "output_type": "stream",
     "text": [
      "Kmnist_Train_Images: (52500, 784)\n",
      "Kmnist_Train_Label: (52500, 10)\n",
      "Kmnist_Test_Images: (17500, 784)\n",
      "Kmnist_Test_Label: (17500, 10)\n"
     ]
    }
   ],
   "source": [
    "#printing shapes of values\n",
    "print('Kmnist_Train_Images:',X_trainVal.shape)\n",
    "print('Kmnist_Train_Label:',y_trainVal.shape)\n",
    "print('Kmnist_Test_Images:',X_testVal.shape)\n",
    "print('Kmnist_Test_Label:',y_testVal.shape)"
   ]
  },
  {
   "attachments": {},
   "cell_type": "markdown",
   "id": "6d8d2344",
   "metadata": {},
   "source": [
    "Now that we have pre-processed the dataset, three different K-fold models will be implemented. \n",
    "\n",
    "<p style='text-align: justify;'><b>Setting Compile Parameters:</b> Optimizer, loss_function and metrics are defined as rmsprop, catergorical_crossentropy and MAE(mean absolute error) respectively, defined in the compile stage of all the models to be developed.</p>\n"
   ]
  },
  {
   "attachments": {},
   "cell_type": "markdown",
   "id": "bf34a91b",
   "metadata": {},
   "source": [
    "###### 6.2 UnderFit-KModel\n",
    "\n",
    "I will carrying out the iterated Kfold on the underfit model performed in the holdout validation method and check whether this model performs more than the baseline."
   ]
  },
  {
   "cell_type": "code",
   "execution_count": 50,
   "id": "81aec037",
   "metadata": {},
   "outputs": [],
   "source": [
    "#initialising an empty underfit_KModel\n",
    "undfit_KModl = models.Sequential()\n",
    "#softmax layer\n",
    "undfit_KModl.add(layers.Dense(10, activation='softmax'))\n",
    "#initialising optimzer, loss_function and metrics and compiling the model\n",
    "undfit_KModl.compile(optimizer='rmsprop',\n",
    "               loss='categorical_crossentropy', \n",
    "               metrics=['mae'])"
   ]
  },
  {
   "cell_type": "code",
   "execution_count": 51,
   "id": "2a84272d",
   "metadata": {},
   "outputs": [
    {
     "name": "stdout",
     "output_type": "stream",
     "text": [
      "Processing-fold value 0\n",
      "Processing-fold value 1\n",
      "Processing-fold value 2\n",
      "Processing-fold value 3\n",
      "Processing-fold value 4\n",
      "Processing-fold value 0\n",
      "Processing-fold value 1\n",
      "Processing-fold value 2\n",
      "Processing-fold value 3\n",
      "Processing-fold value 4\n",
      "Processing-fold value 0\n",
      "Processing-fold value 1\n",
      "Processing-fold value 2\n",
      "Processing-fold value 3\n",
      "Processing-fold value 4\n",
      "Processing-fold value 0\n",
      "Processing-fold value 1\n",
      "Processing-fold value 2\n",
      "Processing-fold value 3\n",
      "Processing-fold value 4\n"
     ]
    }
   ],
   "source": [
    "#initialising variables\n",
    "KNum=4\n",
    "vald_Samplenum=len(X_trainVal)//KNum\n",
    "epochNum=20\n",
    "iterateNum=4\n",
    "foldNum=5\n",
    "\n",
    "#iterating over datavalues\n",
    "for p in range(iterateNum):\n",
    "    #initialising strkFld\n",
    "    strKfld=StratifiedKFold(n_splits=foldNum,shuffle=True)\n",
    "    \n",
    "    for q, (trainset_ind, validset_ind) in enumerate(strKfld.split(X_trainVal, y_trainVal.argmax(1))):\n",
    "        print('Processing-fold value',q)\n",
    "        \n",
    "        part_dataTrain=X_trainVal[trainset_ind]\n",
    "        dataValid=X_trainVal[validset_ind]\n",
    "        \n",
    "        part_targetTrain=y_trainVal[trainset_ind]\n",
    "        targetValid=y_trainVal[validset_ind]\n",
    "        \n",
    "        undfit_KModl.fit(np.concatenate([part_dataTrain,dataValid]),\n",
    "                            np.concatenate([part_targetTrain,targetValid]),\n",
    "                            verbose=0,\n",
    "                            epochs=epochNum,\n",
    "                            batch_size=vald_Samplenum)"
   ]
  },
  {
   "cell_type": "code",
   "execution_count": 52,
   "id": "716ec1b8",
   "metadata": {},
   "outputs": [
    {
     "name": "stdout",
     "output_type": "stream",
     "text": [
      "547/547 [==============================] - 1s 882us/step - loss: 0.6597 - mae: 0.0581\n"
     ]
    }
   ],
   "source": [
    "#evaluating loss_testing and accur_testing\n",
    "loss_testing,accur_testing= undfit_KModl.evaluate(X_testVal,y_testVal)"
   ]
  },
  {
   "attachments": {},
   "cell_type": "markdown",
   "id": "5acd35e1",
   "metadata": {},
   "source": [
    "###### 6.2 Overfit-KModel\n",
    "\n",
    "I will carrying out the iterated Kfold on the overfit model performed in the holdout validation method and analyze the performanace of this model."
   ]
  },
  {
   "cell_type": "code",
   "execution_count": 53,
   "id": "4087034b",
   "metadata": {},
   "outputs": [],
   "source": [
    "#overfit\n",
    "ovrfit_KModl= models.Sequential()\n",
    "ovrfit_KModl.add(layers.Dense(512, activation='relu', input_shape=(28 * 28, )))\n",
    "ovrfit_KModl.add(layers.Dense(124,activation='relu'))\n",
    "ovrfit_KModl.add(layers.Dense(46,activation='relu'))\n",
    "ovrfit_KModl.add(layers.Dense(10, activation='softmax'))\n",
    "ovrfit_KModl.compile(optimizer='rmsprop',\n",
    "               loss='categorical_crossentropy', \n",
    "               metrics=['mae'])"
   ]
  },
  {
   "cell_type": "code",
   "execution_count": 54,
   "id": "5b942150",
   "metadata": {},
   "outputs": [
    {
     "name": "stdout",
     "output_type": "stream",
     "text": [
      "Processing-fold value 0\n",
      "Processing-fold value 1\n",
      "Processing-fold value 2\n",
      "Processing-fold value 3\n",
      "Processing-fold value 4\n",
      "Processing-fold value 0\n",
      "Processing-fold value 1\n",
      "Processing-fold value 2\n",
      "Processing-fold value 3\n",
      "Processing-fold value 4\n",
      "Processing-fold value 0\n",
      "Processing-fold value 1\n",
      "Processing-fold value 2\n",
      "Processing-fold value 3\n",
      "Processing-fold value 4\n",
      "Processing-fold value 0\n",
      "Processing-fold value 1\n",
      "Processing-fold value 2\n",
      "Processing-fold value 3\n",
      "Processing-fold value 4\n"
     ]
    }
   ],
   "source": [
    "#initialising variables\n",
    "KNum=4\n",
    "vald_Samplenum=len(X_trainVal)//KNum\n",
    "epochNum=30\n",
    "iterateNum=4\n",
    "foldNum=5\n",
    "\n",
    "#iterating over datavalues\n",
    "for p in range(iterateNum):\n",
    "    #initialising strkFld\n",
    "    strKfld=StratifiedKFold(n_splits=foldNum,shuffle=True)\n",
    "    \n",
    "    for q, (trainset_ind, validset_ind) in enumerate(strKfld.split(X_trainVal, y_trainVal.argmax(1))):\n",
    "        print('Processing-fold value',q)\n",
    "        \n",
    "        part_dataTrain=X_trainVal[trainset_ind]\n",
    "        dataValid=X_trainVal[validset_ind]\n",
    "        \n",
    "        part_targetTrain=y_trainVal[trainset_ind]\n",
    "        targetValid=y_trainVal[validset_ind]\n",
    "        \n",
    "        ovrfit_KModl.fit(np.concatenate([part_dataTrain,dataValid]),\n",
    "                            np.concatenate([part_targetTrain,targetValid]),\n",
    "                            verbose=0,\n",
    "                            epochs=epochNum,\n",
    "                            batch_size=vald_Samplenum)"
   ]
  },
  {
   "cell_type": "code",
   "execution_count": 55,
   "id": "70903fb6",
   "metadata": {},
   "outputs": [
    {
     "name": "stdout",
     "output_type": "stream",
     "text": [
      "547/547 [==============================] - 2s 4ms/step - loss: 0.2721 - mae: 0.0083\n"
     ]
    }
   ],
   "source": [
    "#evaluating loss_testing and accur_testing\n",
    "loss_testing,accur_testing= ovrfit_KModl.evaluate(X_testVal,y_testVal)"
   ]
  },
  {
   "attachments": {},
   "cell_type": "markdown",
   "id": "2fc2480d",
   "metadata": {},
   "source": [
    "###### 6.3 Final K iterated model"
   ]
  },
  {
   "cell_type": "code",
   "execution_count": 56,
   "id": "1a6723ea",
   "metadata": {},
   "outputs": [],
   "source": [
    "finalKfit_Modl= models.Sequential()\n",
    "finalKfit_Modl.add(layers.Dense(512, activation='relu', input_shape=(28 * 28, )))\n",
    "finalKfit_Modl.add(layers.Dense(46,activation='relu'))\n",
    "finalKfit_Modl.add(layers.Dense(10,activation='softmax'))\n",
    "finalKfit_Modl.compile(optimizer='rmsprop',\n",
    "               loss='categorical_crossentropy', \n",
    "               metrics=['mae'])"
   ]
  },
  {
   "cell_type": "code",
   "execution_count": 57,
   "id": "aa5bd78b",
   "metadata": {},
   "outputs": [
    {
     "name": "stdout",
     "output_type": "stream",
     "text": [
      "Processing-fold value 0\n",
      "Processing-fold value 1\n",
      "Processing-fold value 2\n",
      "Processing-fold value 3\n",
      "Processing-fold value 4\n",
      "Processing-fold value 0\n",
      "Processing-fold value 1\n",
      "Processing-fold value 2\n",
      "Processing-fold value 3\n",
      "Processing-fold value 4\n",
      "Processing-fold value 0\n",
      "Processing-fold value 1\n",
      "Processing-fold value 2\n",
      "Processing-fold value 3\n",
      "Processing-fold value 4\n",
      "Processing-fold value 0\n",
      "Processing-fold value 1\n",
      "Processing-fold value 2\n",
      "Processing-fold value 3\n",
      "Processing-fold value 4\n"
     ]
    }
   ],
   "source": [
    "#initialising variables\n",
    "KNum=4\n",
    "vald_Samplenum=len(X_trainVal)//KNum\n",
    "epochNum=27\n",
    "iterateNum=4\n",
    "foldNum=5\n",
    "\n",
    "#iterating over datavalues\n",
    "for p in range(iterateNum):\n",
    "    #initialising strkFld\n",
    "    strKfld=StratifiedKFold(n_splits=foldNum,shuffle=True)\n",
    "    \n",
    "    for q, (trainset_ind, validset_ind) in enumerate(strKfld.split(X_trainVal, y_trainVal.argmax(1))):\n",
    "        print('Processing-fold value',q)\n",
    "        \n",
    "        part_dataTrain=X_trainVal[trainset_ind]\n",
    "        dataValid=X_trainVal[validset_ind]\n",
    "        \n",
    "        part_targetTrain=y_trainVal[trainset_ind]\n",
    "        targetValid=y_trainVal[validset_ind]\n",
    "        \n",
    "        finalKfit_Modl.fit(np.concatenate([part_dataTrain,dataValid]),\n",
    "                            np.concatenate([part_targetTrain,targetValid]),\n",
    "                            verbose=0,\n",
    "                            epochs=epochNum,\n",
    "                            batch_size=vald_Samplenum)"
   ]
  },
  {
   "cell_type": "code",
   "execution_count": 58,
   "id": "4ac988f1",
   "metadata": {},
   "outputs": [
    {
     "name": "stdout",
     "output_type": "stream",
     "text": [
      "547/547 [==============================] - 2s 2ms/step - loss: 0.2376 - mae: 0.0090\n"
     ]
    }
   ],
   "source": [
    "#evaluating loss_testing and accur_testing\n",
    "loss_testing,accur_testing= finalKfit_Modl.evaluate(X_testVal,y_testVal)"
   ]
  },
  {
   "attachments": {},
   "cell_type": "markdown",
   "id": "cfb799b0",
   "metadata": {},
   "source": [
    "###### 6.4 Conclusion of IteratedK\n",
    "\n",
    "<p style='text-align: justify;'>Based on the assessment of the different models conducted above, we may conclude that the model is capable of producing somewhat accurate results, as seen by the prediction error on unknown data. Based on the minimal prediction error, we can conclude that the model is capable of performing effectively and producing reliable results.</p>\n",
    "\n",
    "<p>The final model has the loss of 0.2376 and mean absolute value of 0.0090 which are providing optimum results.</p>"
   ]
  },
  {
   "attachments": {},
   "cell_type": "markdown",
   "id": "ec10a951",
   "metadata": {},
   "source": [
    "#### 7. Analysis\n",
    "\n",
    "<p style='text-align: justify;'>The dataset was trained using two separate models that were able to give quite accurate predictions. Whilst these models use distinct evaluation methods, they share network layers in that iterated k fold requires fewer epochs while hold out validation requires dropout layers and l1.l2 regularizers.</p>\n",
    "\n",
    "<p style='text-align: justify;'>The metric on the evaluation protocol differs when rmsprop is used as the opitimizer and catergorical crossentropy is used as the loss function (accuracy vs mean absolute error).</p>\n",
    "\n",
    "<p style='text-align: justify;'>I was able to create two separate models utilizing two different assessment processes, with both models having a similar shape. The hold out validation model produced an accuracy of 94.67%, the prediction error was 100-94.67=5.33%, and the iterated k fold model produced a mea value of 0.0090 X100=0.9%. As a result, we may infer that the iterated k fold model is better suited for this dataset to give accyrate predictions.</p>"
   ]
  },
  {
   "attachments": {},
   "cell_type": "markdown",
   "id": "c5d6126f",
   "metadata": {},
   "source": [
    "### References"
   ]
  },
  {
   "attachments": {},
   "cell_type": "markdown",
   "id": "345a1780",
   "metadata": {},
   "source": [
    "1.tensorflow dataset source, Available:Online      \n",
    "https://www.tensorflow.org/datasets/catalog/kmnist\n",
    "\n",
    "2.KMNIST information source, Available:Online\n",
    "https://datasets.activeloop.ai/docs/ml/datasets/kmnist/\n",
    "\n",
    "3.L1 and L2 regularization methods, Available:Online\n",
    "https://builtin.com/data-science/l2-regularization"
   ]
  }
 ],
 "metadata": {
  "kernelspec": {
   "display_name": "Python 3 (ipykernel)",
   "language": "python",
   "name": "python3"
  },
  "language_info": {
   "codemirror_mode": {
    "name": "ipython",
    "version": 3
   },
   "file_extension": ".py",
   "mimetype": "text/x-python",
   "name": "python",
   "nbconvert_exporter": "python",
   "pygments_lexer": "ipython3",
   "version": "3.9.12"
  }
 },
 "nbformat": 4,
 "nbformat_minor": 5
}
